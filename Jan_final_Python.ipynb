{
 "cells": [
  {
   "cell_type": "markdown",
   "metadata": {},
   "source": [
    "# Analyzing and extending the Diamond and Dybvig model with some insights from Behavioural Economics\"\n",
    "   "
   ]
  },
  {
   "cell_type": "markdown",
   "metadata": {},
   "source": [
    "### Final assignment for the Course Applied Economic Analysis, 31/01/2017"
   ]
  },
  {
   "cell_type": "markdown",
   "metadata": {},
   "source": [
    "Name | ANR\n",
    "------------ | -------------\n",
    "Ryan Collier | 514614 \n",
    "Jan Machacek | 991009\n",
    "Carlotta Varriale | 608931"
   ]
  },
  {
   "cell_type": "markdown",
   "metadata": {},
   "source": [
    "# Motivation\n",
    "\n",
    "We start from the assumptions of the paper by [Diamond and Dybvig](https://www.macroeconomics.tu-berlin.de/fileadmin/fg124/financial_crises/literature/Diamon_Dybvig_Bank_Runs__Deposit_Insurance__and_Liquidity.pdf)\n",
    "to develop a few extensions to their theoretical model that seem to fit the observed mechanisms of bank runs.\n",
    "Specifically, we considered that some insights from **Behavioral Economics** that use a hyperbolic discounting factor might help to improve the quality of the standard model on bank runs in predicting depositors' behaviour.\n",
    "An improved model of bank runs will make it possible for banks and/or policy makers to act in times of financial distress. Moreover, we decided to use **Python** as the main platform to develop our work because it is a great tool to formalize our mathematical formulations and visually explore our results. \n",
    "We will begin with a description of the standard model by making ad hoc use of variables and constraints to solve the optimization problem of allocation and consumption in different time periods. We will show that banks provide improved distribution efficiency than autarky, but bank runs equilibria are also possible, which are potential catastrophes and much worse than autarky.\n",
    "Then, we will run a simple simulation to explore the relationship between number of withdrawals, probability of bank closing and interest rate on deposits.(?)\n",
    "Finally, we introduce the concept of hyperbolic discounting and implement it in the expression of the model,trying to empirically measure the degree of time inconsistency for depositors."
   ]
  },
  {
   "cell_type": "markdown",
   "metadata": {},
   "source": [
    "# Description of the model "
   ]
  },
  {
   "cell_type": "markdown",
   "metadata": {},
   "source": [
    "$ 1. $ Expected utility of agent at T = 0:"
   ]
  },
  {
   "cell_type": "markdown",
   "metadata": {},
   "source": [
    "$ U(c_1,c_2) = tu(c_1) + \\rho(1-t)u(c_2) $"
   ]
  },
  {
   "cell_type": "markdown",
   "metadata": {},
   "source": [
    "...Where"
   ]
  },
  {
   "cell_type": "markdown",
   "metadata": {},
   "source": [
    "$ u'(0) =\\infty $\n",
    "\n",
    "$ u'(\\infty) =0 $"
   ]
  },
  {
   "cell_type": "markdown",
   "metadata": {},
   "source": [
    "$ -c\\frac{u''(c)}{u'(c)}\\:\\verb+>+\\:1 $"
   ]
  },
  {
   "cell_type": "markdown",
   "metadata": {},
   "source": [
    "$ 2. $ Optimal allocation:\n",
    "\n",
    "$ \\max_{x,c_1,c_2}[tu(c_1) + \\rho(1-t)u(c_2)] $\n",
    "\n",
    "...subject to resource constraints for periods 1 and 2:\n",
    "\n",
    "$ tc_1\\:\\leq\\:x $\n",
    "\n",
    "$ (1-t)c_2\\:\\leq\\:(1-x)R $\n",
    "\n",
    "\n",
    "The resource constraints will be satisfied with equality since the function is strictly increasing. Therefore:\n",
    "\n",
    "\n",
    "$ \\max\\Big[tu(\\frac{x}{t}) + \\rho(1-t)u\\frac{(1-x)R}{1-t}\\Big] $\n",
    "\n",
    "FOC...\n",
    "\n",
    "$ u'\\Big(\\frac{x}{t}\\Big) = R\\rho u'\\Big(\\frac{(1-x)R}{1-t}\\Big) $ \n",
    "\n",
    "or\n",
    "\n",
    "$ u'(c_1) = u'(c_2)R\\rho $\n",
    "\n",
    "$ \\Rightarrow 0\\:\\leq\\:x\\:\\leq\\:1\\; $ at the optimum, so $ c_1\\:\\verb+>+\\:0 $\n",
    "$ \\Rightarrow $ Since $ \\;\\rho R\\;\\geq\\;0\\; $ and the function is strictly concave: $\\;c_2\\;\\geq\\;c_1 $\n",
    "\n",
    "**Therefore, it is possible to say that this allocation is efficient and incentive compatible.** \n",
    "\n",
    "$ 3. $ The optimum:\n",
    "\n",
    "$ c_1^*\\;\\verb+>+\\;1 $\n",
    "\n",
    "$ c_2^*\\;\\verb+<+\\;R\\ $"
   ]
  },
  {
   "cell_type": "markdown",
   "metadata": {},
   "source": [
    "This confirms that consumption in both time periods is higher than it would be without banks ($ c_1^* = 1 $ and $ c_2^* = R $)"
   ]
  },
  {
   "cell_type": "markdown",
   "metadata": {},
   "source": [
    "# Simulation of a Bank Run"
   ]
  },
  {
   "cell_type": "markdown",
   "metadata": {},
   "source": [
    "In this part, we run a simple simulation of the bank run in order to show several implications of the Diamond & Dybvig model. \n",
    "For this purpose, we used simulations created by [Christian Yenko](https://github.com/cyenko/dd_sim) which we simplified and adjusted."
   ]
  },
  {
   "cell_type": "code",
   "execution_count": 12,
   "metadata": {
    "collapsed": true
   },
   "outputs": [],
   "source": [
    "import random\n",
    "import matplotlib.pyplot as plt\n",
    "import plotly.plotly as py\n",
    "from plotly.graph_objs import *\n",
    "import math\n",
    "import sys"
   ]
  },
  {
   "cell_type": "markdown",
   "metadata": {},
   "source": [
    "Firstly, we set some initial values of key variables. We used the same values as C. Yenko; any change is possible, though."
   ]
  },
  {
   "cell_type": "code",
   "execution_count": 13,
   "metadata": {
    "collapsed": true
   },
   "outputs": [],
   "source": [
    "interestRate = 0.2\n",
    "# Some initial interest rate must be set, otherwise the trial would not work. \n",
    "# This particular value is determining for the second simulation only.\n",
    "maxWithdrawals = 70\n",
    "# The maximum number of people (out of 100) who may withdraw their money without the bank has to close.\n",
    "# This particular value is determining for the first simulation only.\n",
    "numTrials = 100\n",
    "# The total number of simulations made; during each of them the bank either close or not."
   ]
  },
  {
   "cell_type": "markdown",
   "metadata": {},
   "source": [
    "Then we write the general simulation code. The following input contains one trial which is then employed by the final two simulations. Also note that accurate indentation is essential here in order to run the simulation with all the persons involved in each round."
   ]
  },
  {
   "cell_type": "code",
   "execution_count": 14,
   "metadata": {
    "collapsed": false
   },
   "outputs": [],
   "source": [
    "def runTrial(interestRate,maxWithdrawals):\n",
    "        numWithdrawals = 0\n",
    "        # The initial number of withdrawals is 0. \n",
    "        # It increases by 1 with each person who decides during any round to withdraw.\n",
    "        withdrawParameter = 0\n",
    "        # This parameter increases with every withdrawal. \n",
    "        # Higher the parameter is, higher is the current risk aversion of every person.\n",
    "        peopleList = []\n",
    "        for i in range(0,100):\n",
    "            peopleList.append([random.normalvariate(.5,.5/3),0,i])\n",
    "        # The People List contains personal data of every person out of 100.\n",
    "        # [0] The first number is a random risk parameter with mean=0.5 and SD=(0.5/3).\n",
    "        # [1] The second one determines whether the person has already decided to withdraw (1) or not (0).\n",
    "        # [2] At the third position is \"i\" - a number in range 0-99 which serves as a personal ID.\n",
    "        for roundNum in range (0,3):\n",
    "        # There are 3 rounds of each simulation, in the Diamond&Dybvig paper described as periods T=0,1,2.\n",
    "            if numWithdrawals < maxWithdrawals:\n",
    "            # A condition necessary for each round; if not satisfied the bank has already closed.\n",
    "                for person in peopleList:\n",
    "                    if numWithdrawals < maxWithdrawals:\n",
    "                        if not person[1] == 1:\n",
    "                        # Check if this person has still her investment in bank.\n",
    "                        # I.e. this person has not withdrawn in previous rounds.\n",
    "                            num = random.random()\n",
    "                            # Return a random number in range [0.0, 1.0).\n",
    "                            currentRiskAversionParam = person[0]+withdrawParameter-interestRate\n",
    "                            # It is different for each person because of the random risk parameter.\n",
    "                            # It also varies between rounds as the withdraw parameter may change.\n",
    "                            if num < currentRiskAversionParam:\n",
    "                            # Then this person withdraws.\n",
    "                                numWithdrawals = numWithdrawals + 1\n",
    "                                person[1]=1\n",
    "                                # Ensure this person may not participate in following rounds.\n",
    "                                withdrawParameter = numWithdrawals/100\n",
    "                                # So that the parameter is higher for every following person and round.\n",
    "        if numWithdrawals < maxWithdrawals:\n",
    "            return 0\n",
    "        else:\n",
    "            return 1\n",
    "        # This loop runs after the whole trial (3 rounds with 100 persons).\n",
    "        # The trial counts for 1 in case that the bank had to close during it."
   ]
  },
  {
   "cell_type": "markdown",
   "metadata": {},
   "source": [
    "In the first simulation, we run the trials with gradually increasing interest rate in order to find the relationship between the interest rate and the probability of bank closure."
   ]
  },
  {
   "cell_type": "code",
   "execution_count": 15,
   "metadata": {
    "collapsed": false
   },
   "outputs": [],
   "source": [
    "x = []\n",
    "y = []\n",
    "for inc in range(0,100,1):\n",
    "        interestRate = float(inc)/100\n",
    "        # The interest rate gradually increases from 0.00 to 0.99.\n",
    "        closeSum = 0\n",
    "        for i in range(0,numTrials):\n",
    "            closeSum = closeSum + runTrial(interestRate,maxWithdrawals)\n",
    "            # This variable sums the total number of trials when the bank had to close.\n",
    "        fractionClose = float(closeSum)/numTrials\n",
    "        x.append(interestRate)\n",
    "        y.append(fractionClose)\n",
    "        # Both the interest rate and the fraction of closed banks are added to lists representing x and y axis."
   ]
  },
  {
   "cell_type": "markdown",
   "metadata": {},
   "source": [
    "Finally, we plot the results. The relationship is rather clear - higher the interest rate is, lower is the probability of the bank closure as the Current Risk Aversion Parameter is lower, hence less people prefer withdrawing their money. The shape of the curve is rather steep, indicating that interest rate above 20% guarantees almost zero risk of bank closure."
   ]
  },
  {
   "cell_type": "code",
   "execution_count": 16,
   "metadata": {
    "collapsed": false
   },
   "outputs": [
    {
     "data": {
      "image/png": "[encoded data removed]",
      "text/plain": [
       "<matplotlib.figure.Figure at 0xb9d0a58>"
      ]
     },
     "metadata": {},
     "output_type": "display_data"
    }
   ],
   "source": [
    "plt.plot(x,y)\n",
    "plt.xlabel(\"interest Rate\")\n",
    "plt.ylabel(\"Bank closure % (out of 100 trials)\")\n",
    "plt.title(\"interest Rate vs. Bank Closure\")\n",
    "plt.show()"
   ]
  },
  {
   "cell_type": "markdown",
   "metadata": {},
   "source": [
    "The second simulation shows the effect of increasing maximum number of withdrawals (i.e. how many people may withdraw their initial investment unless the bank closes) on the probability of the bank closure."
   ]
  },
  {
   "cell_type": "code",
   "execution_count": 17,
   "metadata": {
    "collapsed": false
   },
   "outputs": [],
   "source": [
    "x = []\n",
    "y = []\n",
    "for inc in range(0,100,1):\n",
    "        interestRate = 0.2\n",
    "        # The interest rate is now fixed again.\n",
    "        maxWithdrawals = inc\n",
    "        # The maximum number of withdrawals gradually icreases from 0 to 99.\n",
    "        closeSum = 0\n",
    "        for i in range(0,numTrials):\n",
    "            closeSum = closeSum + runTrial(interestRate,maxWithdrawals)\n",
    "        fractionClose = float(closeSum)/numTrials\n",
    "        x.append(maxWithdrawals)\n",
    "        y.append(fractionClose)"
   ]
  },
  {
   "cell_type": "markdown",
   "metadata": {},
   "source": [
    "Also here the line is rather steep: given the 20% interest rate, up to maxWithdrawals around 50 the bank had to close in almost every trial. Then the probability is sharply decreasing and it is almost zero above 70 withdrawals."
   ]
  },
  {
   "cell_type": "code",
   "execution_count": 18,
   "metadata": {
    "collapsed": false
   },
   "outputs": [
    {
     "data": {
      "image/png": "[encoded data removed]",
      "text/plain": [
       "<matplotlib.figure.Figure at 0xbf1dba8>"
      ]
     },
     "metadata": {},
     "output_type": "display_data"
    }
   ],
   "source": [
    "plt.plot(x,y)\n",
    "plt.xlabel(\"Maximum of withdrawals until closure\")\n",
    "plt.ylabel(\"Bank closure % (out of 100 trials)\")\n",
    "plt.title(\"Max Withdrawals vs. Bank Closure\")\n",
    "plt.show()"
   ]
  },
  {
   "cell_type": "markdown",
   "metadata": {},
   "source": [
    "The simulation shows that both higher interest rate and higher maximum number of withdrawals (determined mostly by bank reserves) lower the risk of bank closure (i.e. \"successful\" bank run). The implication for the banking policy is a rather straightforward trade-off between low deposites (or illiquid investments) and providing high interest rate and vice versa."
   ]
  },
  {
   "cell_type": "markdown",
   "metadata": {},
   "source": [
    "# Extending the existing model using some insights from Behavioural Economics\n",
    "\n",
    "So far we explained and simulated the standard Diamond and Dybvig model without making any assumption about the discounting technique used. Indeed, the authors do not specify the functional form of their discount factor, and we could assume that they use **exponential discounting**, the standard model which implies consistent preferences over time. Although this is the most commonly used model in economics because of its simplicity, other models have shown to describe the empirical reality better [Frederik et al., 2002](http://www.cmu.edu/dietrich/sds/docs/loewenstein/TimeDiscounting.pdf)\n",
    "Exponential discounting assumes that the marginal rate of substitution between consumption in different time periods is only dependent on the time interval between the two time periods. In other words, the discount rate should be constant over time: 1 / (1+K)t. However, empirical studies such as [Thaler, 1981](http://faculty.chicagobooth.edu/richard.thaler/research/pdf/Some%20Empirical%20Evidence%20on%20Dynamic%20Inconsistency.pdf) show that often people show time inconsistent tendencies. Most people prefer 50 dollars today to 55 tomorrow while preferring 55  dollars in 366 days to \n",
    "50 dollars in 365 days. \n",
    "Behavioral economists developed the **hyperbolic discounting** model to incorporate this human tendency for time inconsistent behavior. \n",
    "In this model, the discounting factor depends on both the length of the delay and on the timing of the delay.\n",
    "As a result, hyperbolic discounting discounts future rewards more than exponential discounting for short delays but less for long delays. This makes it more useful to predict actual human behavior. \n",
    "As Diamond and Dybvig (1983) pointed out, bank runs can occur due to self-fulfilling expectations of the behavior of other individuals. Hyperbolic discounting and time inconsistent models try to capture the variations in degree of patience across time. To get a better empirical description of bank runs, we thought of incorporating the hyperbolic discounting assumption in the model, according to which it might be possible that individuals, after learning their type at T=1, still behave contrary to their type. \n",
    "Our model should be therefore integrated as follows:\n"
   ]
  },
  {
   "cell_type": "markdown",
   "metadata": {},
   "source": [
    "# $ \\tu(c_1)+(1-t)u(c_2)\\rho $ \n"
   ]
  },
  {
   "cell_type": "markdown",
   "metadata": {},
   "source": [
    "With:"
   ]
  },
  {
   "cell_type": "markdown",
   "metadata": {},
   "source": [
    "# $ \\rho= \\frac{1}{1+kD} $"
   ]
  },
  {
   "cell_type": "markdown",
   "metadata": {},
   "source": [
    "Where k is a parameter that indicates the degree of discounting and D is the number of weeks of delay. This is the **hyperbolic discounting** factor. \n",
    "On the other hand, the **exponential discounting** factor used in time consistent models predicts that the marginal rate of substitution between consumption at time t and t+1 only depends on the time span between them. \n",
    "It is expressed as:\n"
   ]
  },
  {
   "cell_type": "markdown",
   "metadata": {},
   "source": [
    "# $ \\rho'= \\e^{-kD} $"
   ]
  },
  {
   "cell_type": "code",
   "execution_count": null,
   "metadata": {
    "collapsed": true
   },
   "outputs": [],
   "source": [
    "Now we will compare mathematically and graphically these two different discounting models."
   ]
  },
  {
   "cell_type": "code",
   "execution_count": 1,
   "metadata": {
    "collapsed": false
   },
   "outputs": [
    {
     "data": {
      "text/plain": [
       "0.5"
      ]
     },
     "execution_count": 1,
     "metadata": {},
     "output_type": "execute_result"
    }
   ],
   "source": [
    "import matplotlib.pyplot as plt\n",
    "%matplotlib inline\n",
    "def hyper_disc(x):\n",
    "    return(1/(1+x))/(1/(1+x-1))\n",
    "hyper_disc(1)"
   ]
  },
  {
   "cell_type": "code",
   "execution_count": 2,
   "metadata": {
    "collapsed": false
   },
   "outputs": [
    {
     "data": {
      "text/plain": [
       "0.6666666666666666"
      ]
     },
     "execution_count": 2,
     "metadata": {},
     "output_type": "execute_result"
    }
   ],
   "source": [
    "hyper_disc(2)"
   ]
  },
  {
   "cell_type": "code",
   "execution_count": 3,
   "metadata": {
    "collapsed": false
   },
   "outputs": [
    {
     "data": {
      "text/plain": [
       "0.9230769230769231"
      ]
     },
     "execution_count": 3,
     "metadata": {},
     "output_type": "execute_result"
    }
   ],
   "source": [
    "hyper_disc(12)"
   ]
  },
  {
   "cell_type": "code",
   "execution_count": null,
   "metadata": {
    "collapsed": true
   },
   "outputs": [],
   "source": [
    "hyper_disc(40)\n"
   ]
  },
  {
   "cell_type": "code",
   "execution_count": 4,
   "metadata": {
    "collapsed": true
   },
   "outputs": [],
   "source": [
    "from math import exp\n",
    "def exp_disc(y):\n",
    "    return exp(-y)/exp(-(y-1))"
   ]
  },
  {
   "cell_type": "code",
   "execution_count": 5,
   "metadata": {
    "collapsed": false
   },
   "outputs": [
    {
     "data": {
      "text/plain": [
       "0.36787944117144233"
      ]
     },
     "execution_count": 5,
     "metadata": {},
     "output_type": "execute_result"
    }
   ],
   "source": [
    "exp_disc(1)"
   ]
  },
  {
   "cell_type": "code",
   "execution_count": 6,
   "metadata": {
    "collapsed": false
   },
   "outputs": [
    {
     "data": {
      "text/plain": [
       "0.36787944117144233"
      ]
     },
     "execution_count": 6,
     "metadata": {},
     "output_type": "execute_result"
    }
   ],
   "source": [
    "exp_disc(2)"
   ]
  },
  {
   "cell_type": "code",
   "execution_count": 7,
   "metadata": {
    "collapsed": false
   },
   "outputs": [
    {
     "data": {
      "text/plain": [
       "0.36787944117144233"
      ]
     },
     "execution_count": 7,
     "metadata": {},
     "output_type": "execute_result"
    }
   ],
   "source": [
    "exp_disc(12)"
   ]
  },
  {
   "cell_type": "code",
   "execution_count": 8,
   "metadata": {
    "collapsed": false
   },
   "outputs": [
    {
     "data": {
      "text/plain": [
       "0.36787944117144233"
      ]
     },
     "execution_count": 8,
     "metadata": {},
     "output_type": "execute_result"
    }
   ],
   "source": [
    "exp_disc(40)"
   ]
  },
  {
   "cell_type": "markdown",
   "metadata": {},
   "source": [
    "The discounting factor of next week (n=1) with respect to today(n=0) for the exponential discounting is $ \\huge \\frac{1}{e} $"
   ]
  },
  {
   "cell_type": "markdown",
   "metadata": {},
   "source": [
    "The discounting factor of 12 weeks from now (n=12) with respect to 11 weeks from now (n=11) is also  $ \\huge \\frac{1}{e} $"
   ]
  },
  {
   "cell_type": "markdown",
   "metadata": {},
   "source": [
    "So this is what we mean by **consistent preferences**: constant delta of discount factor for the same time span (one week).\n",
    "However, with hyperbolic discounting we can see that the discounting factor of next week with respect to today is 0,5\n",
    "\n",
    "while the discounting factor of 12 weeks from now with respect to 11 weeks is 0,923. \n",
    "\n",
    "This shows that for low Ds, that is for a short time delay, the discounting factor is similar, but as we increase D, the hyperbolic discounting factor tends to 1, so the present value of a reward in the far future is almost zero according to **hyperbolic discounting**."
   ]
  },
  {
   "cell_type": "markdown",
   "metadata": {},
   "source": [
    "| weeks | d_exp | d_hyper |\n",
    "|-------|-------|---------|\n",
    "| 1     | 0,367 | 0,5     |\n",
    "| 2     | 0,367 | 0,66    |\n",
    "| 12    | 0,367 | 0,923   |\n",
    "| 40    | 0,367 | 0,975   |\n"
   ]
  },
  {
   "cell_type": "code",
   "execution_count": 10,
   "metadata": {
    "collapsed": false
   },
   "outputs": [
    {
     "data": {
      "image/png": "[encoded data removed]",
      "text/plain": [
       "<matplotlib.figure.Figure at 0x1f19be5c8d0>"
      ]
     },
     "metadata": {},
     "output_type": "display_data"
    }
   ],
   "source": [
    "import matplotlib.pyplot as plt\n",
    "import numpy as np\n",
    "\n",
    "x = np.arange(0.01, 5.0, 0.01)\n",
    "y = np.exp(-x)\n",
    "plt.plot(x, y)\n",
    "\n",
    "plt.xlim(5, 0) \n",
    "\n",
    "plt.xlabel('decreasing time (x)')\n",
    "plt.ylabel('present value')\n",
    "plt.title('Exponential discounting')\n",
    "plt.grid(True)\n"
   ]
  },
  {
   "cell_type": "code",
   "execution_count": 11,
   "metadata": {
    "collapsed": false
   },
   "outputs": [
    {
     "data": {
      "image/png": "[encoded data removed]",
      "text/plain": [
       "<matplotlib.figure.Figure at 0x1f19bee19b0>"
      ]
     },
     "metadata": {},
     "output_type": "display_data"
    }
   ],
   "source": [
    "x = np.arange(0.01, 5.0, 0.01)\n",
    "\n",
    "y = 1/(1+x)\n",
    "\n",
    "fig, ax = plt.subplots()\n",
    "plt.xlim(5, 0)\n",
    "ax.plot(x, y)\n",
    "plt.xlabel('decreasing time (x)')\n",
    "plt.ylabel('present value')\n",
    "plt.title('hyperbolic discounting')\n",
    "plt.grid(True)"
   ]
  },
  {
   "cell_type": "code",
   "execution_count": 13,
   "metadata": {
    "collapsed": false
   },
   "outputs": [
    {
     "data": {
      "image/png": "[encoded data removed]",
      "text/plain": [
       "<matplotlib.figure.Figure at 0x1f19c68f828>"
      ]
     },
     "metadata": {},
     "output_type": "display_data"
    }
   ],
   "source": [
    "import matplotlib.pyplot as plt\n",
    "import numpy as np\n",
    "\n",
    "x = np.arange(0.01, 5.0, 0.01)\n",
    "\n",
    "y = 1/(1+x)\n",
    "\n",
    "fig, ax = plt.subplots()\n",
    "plt.xlim(5, 0)\n",
    "ax.plot(x, y)\n",
    "plt.xlabel('decreasing time (x)')\n",
    "plt.ylabel('present value')\n",
    "plt.title('hyperbolic discounting')\n",
    "plt.grid(True)\n",
    "\n",
    "x = np.arange(0.01, 5.0, 0.01)\n",
    "y = np.exp(-x)\n",
    "plt.plot(x, y)\n",
    "\n",
    "plt.xlim(5, 0) \n",
    "\n",
    "plt.xlabel('decreasing time (x)')\n",
    "plt.ylabel('present value')\n",
    "plt.title('Exponential vs hyperbolic discounting')\n",
    "plt.grid(True)"
   ]
  },
  {
   "cell_type": "markdown",
   "metadata": {},
   "source": [
    "# Empirical research"
   ]
  },
  {
   "cell_type": "markdown",
   "metadata": {},
   "source": [
    "In order to exploit this intuition in relation to bank runs, we could use a randomized control trial by conducting a lab experiment. \n",
    "The design of the experiment would consist in asking people to decide how to allocate a certain endowment between immediate consumption and savings at a bank. After this decision, half of the subjects would be chosen at random and asked if they want to change their allocations given the rumors that the bank can have liquidity problems next month; instead, the remaining control group would be told that the bank can have liquidity problems the next month, but one year from now. \n",
    "\n",
    "**If inconsistent and time-impatient individuals tend to have a lower discount factor (higher discount rate) for close future than for far events, we could expect that more people change their decisions and decide to save less in the treatment group than in the control group.**\n"
   ]
  },
  {
   "cell_type": "markdown",
   "metadata": {},
   "source": [
    "# Conclusions and recommendations "
   ]
  },
  {
   "cell_type": "markdown",
   "metadata": {},
   "source": [
    "As Diamond and Dybvig (1983) pointed out bank runs can occur due to a self-fulfilling prophecy based on expectations of the **behaviour** of other individuals.\n",
    "Given this close link with behavioural economics, we decided to review and explore the hyperbolic discounting model, which we thought might explain why people sometimes do not respect the commitment they make in T=0 with respect to time T=1: when T=1 approaches, they often revise their programmed behavior.  \n",
    "This is the reason why we often observe that people on Saturday commit on “starting a diet on Monday”, but then they change their minds when the day comes, or for they decide on saving some amount for the future but in the end spend it before the due time.\n",
    "\n",
    "Some people, however, are sophisticated enough to anticipate that they might have time inconsistent behavior and try to insure against it in time 0, for example by not buying unhealthy food or by keeping their savings in a place that is difficult to reach.\n",
    "\n",
    "**In this light, making deposits illiquid by suspending convertibility could therefore be an effective and advisable measure. Indeed, it would serve not only a shelter for financial institutions to avoid bank runs, but it would  have the double effect of providing customers with a shelter from their own “temptation” to inconsistently revise their decisions and withdraw their funds before they committed to.** \n",
    "\n",
    "\n",
    "\n"
   ]
  },
  {
   "cell_type": "markdown",
   "metadata": {},
   "source": [
    "# Appendix: optimisation with Phyton"
   ]
  },
  {
   "cell_type": "code",
   "execution_count": 19,
   "metadata": {
    "collapsed": true
   },
   "outputs": [],
   "source": [
    "import numpy as np\n",
    "from scipy import optimize\n",
    "import random"
   ]
  },
  {
   "cell_type": "code",
   "execution_count": 20,
   "metadata": {
    "collapsed": true
   },
   "outputs": [],
   "source": [
    "def output ():\n",
    "    t = random.random() # Return a random number in range [0.0, 1.0)\n",
    "    p = 0.5\n",
    "    R = 0.2 \n",
    "    def Uc1(x,t):\n",
    "        return (x/t)\n",
    "    def Uc2(x,t,R):\n",
    "        return (((1-x)*R)/(1-t))\n",
    "    return optimize.fsolve(lambda x: t*Uc1(x,t)+(1-t)*p*Uc2(x,t,R), 0)\n"
   ]
  },
  {
   "cell_type": "code",
   "execution_count": 21,
   "metadata": {
    "collapsed": false
   },
   "outputs": [
    {
     "name": "stdout",
     "output_type": "stream",
     "text": [
      "[-0.11111111]\n"
     ]
    }
   ],
   "source": [
    "print output() # So this is the output dependent on values of p and R"
   ]
  }
 ],
 "metadata": {
  "anaconda-cloud": {},
  "kernelspec": {
   "display_name": "Python [conda root]",
   "language": "python",
   "name": "conda-root-py"
  },
  "language_info": {
   "codemirror_mode": {
    "name": "ipython",
    "version": 2
   },
   "file_extension": ".py",
   "mimetype": "text/x-python",
   "name": "python",
   "nbconvert_exporter": "python",
   "pygments_lexer": "ipython2",
   "version": "2.7.12"
  }
 },
 "nbformat": 4,
 "nbformat_minor": 1
}
